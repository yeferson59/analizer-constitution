{
 "cells": [
  {
   "cell_type": "code",
   "execution_count": 4,
   "id": "fea98b2c",
   "metadata": {},
   "outputs": [
    {
     "name": "stdout",
     "output_type": "stream",
     "text": [
      "\u001b[2K\u001b[2mResolved \u001b[1m70 packages\u001b[0m \u001b[2min 261ms\u001b[0m\u001b[0m                                        \u001b[0m\n",
      "\u001b[2K\u001b[2mAudited \u001b[1m35 packages\u001b[0m \u001b[2min 5ms\u001b[0m\u001b[0m                                           \u001b[0m\n",
      "\u001b[2K\u001b[2mResolved \u001b[1m72 packages\u001b[0m \u001b[2min 94ms\u001b[0m\u001b[0m                                         \u001b[0m\n",
      "\u001b[2K\u001b[2mAudited \u001b[1m37 packages\u001b[0m \u001b[2min 0.98ms\u001b[0m\u001b[0m                                        \u001b[0m\n"
     ]
    }
   ],
   "source": [
    "!uv add \"langchain[openai]\"\n",
    "!uv add dotenv"
   ]
  },
  {
   "cell_type": "code",
   "execution_count": null,
   "id": "1edf3d14",
   "metadata": {},
   "outputs": [
    {
     "name": "stdout",
     "output_type": "stream",
     "text": [
      "content='Justin Bieber was born in **1994**.\\n\\nThe NFL team that won the Super Bowl that concluded the 1993 season (played in early 1994) was the **Dallas Cowboys**. They defeated the Buffalo Bills in Super Bowl XXVIII.' additional_kwargs={'refusal': None} response_metadata={'token_usage': {'completion_tokens': 58, 'prompt_tokens': 17, 'total_tokens': 75, 'completion_tokens_details': {'accepted_prediction_tokens': None, 'audio_tokens': None, 'reasoning_tokens': 0, 'rejected_prediction_tokens': None, 'image_tokens': 0}, 'prompt_tokens_details': {'audio_tokens': None, 'cached_tokens': 0}}, 'model_name': 'google/gemini-2.5-flash-lite-preview-09-2025', 'system_fingerprint': None, 'id': 'gen-1759008676-gPuF9xYQCaxFzGYZi1h5', 'service_tier': None, 'finish_reason': 'stop', 'logprobs': None} id='run--0e5c233e-ded0-4c99-b5a2-3396e854d028-0' usage_metadata={'input_tokens': 17, 'output_tokens': 58, 'total_tokens': 75, 'input_token_details': {'cache_read': 0}, 'output_token_details': {'reasoning': 0}}\n"
     ]
    }
   ],
   "source": [
    "from langchain_openai import ChatOpenAI\n",
    "from langchain_core.prompts import PromptTemplate\n",
    "from os import getenv\n",
    "from dotenv import load_dotenv\n",
    "\n",
    "load_dotenv()\n",
    "\n",
    "template = \"\"\"Question: {question}\n",
    "Answer: Let's think step by step.\"\"\"\n",
    "\n",
    "prompt = PromptTemplate(template=template, input_variables=[\"question\"])\n",
    "\n",
    "llm = ChatOpenAI(\n",
    "  api_key=getenv(\"OPENAPI_API_KEY\"),\n",
    "  base_url=getenv(\"OPENAPI_BASE_URL\"),\n",
    "  model=\"google/gemini-2.5-flash-lite-preview-09-2025\",\n",
    ")\n",
    "\n",
    "\n",
    "question = \"What NFL team won the Super Bowl in the year Justin Beiber was born?\"\n",
    "print(llm.invoke(input=question, config={\"prompt\": prompt}))\n"
   ]
  }
 ],
 "metadata": {
  "kernelspec": {
   "display_name": "analizer-constitution",
   "language": "python",
   "name": "python3"
  },
  "language_info": {
   "codemirror_mode": {
    "name": "ipython",
    "version": 3
   },
   "file_extension": ".py",
   "mimetype": "text/x-python",
   "name": "python",
   "nbconvert_exporter": "python",
   "pygments_lexer": "ipython3",
   "version": "3.13.7"
  }
 },
 "nbformat": 4,
 "nbformat_minor": 5
}
